{
 "cells": [
  {
   "cell_type": "code",
   "execution_count": 1,
   "id": "52f1fb1b-f201-49e0-ba0c-f88b2ec2fe17",
   "metadata": {},
   "outputs": [],
   "source": [
    "from IPython.core.magic import register_cell_magic\n",
    "\n",
    "\n",
    "@register_cell_magic\n",
    "def write_and_run(line, cell):\n",
    "    \"\"\"Write command to file before executing on notebook\"\"\"\n",
    "    args = line.split()\n",
    "    append = ''\n",
    "    if '-a' in args:\n",
    "        append = args.pop()\n",
    "    for arg in args:\n",
    "        file = arg\n",
    "        mode = 'w' if append != '-a' else 'a'\n",
    "        with open(file, mode) as f:\n",
    "            f.write(f\"{cell}\\n\")\n",
    "           \n",
    "    get_ipython().run_cell(cell)"
   ]
  },
  {
   "cell_type": "code",
   "execution_count": 1,
   "id": "1c680e8f-20e1-49c5-afeb-e5353ad7f1a5",
   "metadata": {},
   "outputs": [],
   "source": [
    "from IPython.core.magic import register_cell_magic\n",
    "\n",
    "\n",
    "@register_cell_magic\n",
    "def write_and_run(line, cell):\n",
    "    \"\"\"Write command to file before executing on notebook\"\"\"\n",
    "    args = line.split()\n",
    "    append = ''\n",
    "    if '-a' in args:\n",
    "        append = args.pop()\n",
    "    for arg in args:\n",
    "        file = arg\n",
    "        mode = 'w' if append != '-a' else 'a'\n",
    "        with open(file, mode) as f:\n",
    "            f.write(f\"{cell}\\n\")\n",
    "           \n",
    "    get_ipython().run_cell(cell)"
   ]
  },
  {
   "cell_type": "code",
   "execution_count": 8,
   "id": "1c767aef-a83b-4237-b618-559fbe65b75d",
   "metadata": {},
   "outputs": [
    {
     "name": "stdout",
     "output_type": "stream",
     "text": [
      "Requirement already satisfied: pandas==1.3.5 in /opt/conda/lib/python3.10/site-packages (from -r requirements.txt (line 1)) (1.3.5)\n",
      "Requirement already satisfied: postgres in /opt/conda/lib/python3.10/site-packages (from -r requirements.txt (line 2)) (4.0)\n",
      "Requirement already satisfied: python-dotenv==0.19.2 in /opt/conda/lib/python3.10/site-packages (from -r requirements.txt (line 3)) (0.19.2)\n",
      "Requirement already satisfied: SQLAlchemy==1.3.24 in /opt/conda/lib/python3.10/site-packages (from -r requirements.txt (line 4)) (1.3.24)\n",
      "Requirement already satisfied: numpy>=1.21.0 in /opt/conda/lib/python3.10/site-packages (from pandas==1.3.5->-r requirements.txt (line 1)) (1.23.2)\n",
      "Requirement already satisfied: python-dateutil>=2.7.3 in /opt/conda/lib/python3.10/site-packages (from pandas==1.3.5->-r requirements.txt (line 1)) (2.8.2)\n",
      "Requirement already satisfied: pytz>=2017.3 in /opt/conda/lib/python3.10/site-packages (from pandas==1.3.5->-r requirements.txt (line 1)) (2022.2.1)\n",
      "Requirement already satisfied: psycopg2-binary>=2.8 in /opt/conda/lib/python3.10/site-packages (from postgres->-r requirements.txt (line 2)) (2.9.3)\n",
      "Requirement already satisfied: psycopg2-pool in /opt/conda/lib/python3.10/site-packages (from postgres->-r requirements.txt (line 2)) (1.1)\n",
      "Requirement already satisfied: six>=1.5 in /opt/conda/lib/python3.10/site-packages (from python-dateutil>=2.7.3->pandas==1.3.5->-r requirements.txt (line 1)) (1.16.0)\n"
     ]
    }
   ],
   "source": [
    "!pip install -r requirements.txt"
   ]
  },
  {
   "cell_type": "code",
   "execution_count": 11,
   "id": "c8e366c6-2d58-4028-b16a-a347dd41b227",
   "metadata": {},
   "outputs": [
    {
     "name": "stdout",
     "output_type": "stream",
     "text": [
      "Stored 'SCRIPT_FILENAME' (str)\n"
     ]
    }
   ],
   "source": [
    "SCRIPT_FILENAME = 'dags/etl.py'\n",
    "%store SCRIPT_FILENAME"
   ]
  },
  {
   "cell_type": "code",
   "execution_count": 12,
   "id": "de0e301b-d970-4392-bcc4-32e563fe0921",
   "metadata": {},
   "outputs": [
    {
     "name": "stdout",
     "output_type": "stream",
     "text": [
      "dags/etl.py\n"
     ]
    }
   ],
   "source": [
    "print(SCRIPT_FILENAME)"
   ]
  },
  {
   "cell_type": "code",
   "execution_count": 13,
   "id": "668f80df-e06d-459c-9b82-d314518add5a",
   "metadata": {},
   "outputs": [],
   "source": [
    "%%write_and_run $SCRIPT_FILENAME\n",
    "import os\n",
    "\n",
    "import pandas as pd\n",
    "\n",
    "from dotenv import dotenv_values\n",
    "from sqlalchemy import create_engine, inspect"
   ]
  },
  {
   "cell_type": "code",
   "execution_count": 15,
   "id": "16e2a8d5-a768-4ede-97a9-a9d402e4b7d4",
   "metadata": {},
   "outputs": [],
   "source": [
    "%%write_and_run $SCRIPT_FILENAME -a\n",
    "\n",
    "CONFIG = dotenv_values('.env')\n",
    "if not CONFIG:\n",
    "    CONFIG = os.environ\n",
    "\n",
    "connection_uri = \"postgresql+psycopg2://{}:{}@{}:{}\".format(\n",
    "    CONFIG[\"POSTGRES_USER\"],\n",
    "    CONFIG[\"POSTGRES_PASSWORD\"],\n",
    "    CONFIG['POSTGRES_HOST'],\n",
    "    CONFIG[\"POSTGRES_PORT\"],\n",
    ")"
   ]
  },
  {
   "cell_type": "code",
   "execution_count": 16,
   "id": "a3b8944a-ca03-4956-a980-f3f8ce60e8ec",
   "metadata": {},
   "outputs": [
    {
     "data": {
      "text/plain": [
       "<sqlalchemy.engine.base.Connection at 0x7f807e8463e0>"
      ]
     },
     "execution_count": 16,
     "metadata": {},
     "output_type": "execute_result"
    }
   ],
   "source": [
    "%%write_and_run $SCRIPT_FILENAME -a\n",
    "\n",
    "engine = create_engine(connection_uri, pool_pre_ping=True)\n",
    "engine.connect()"
   ]
  },
  {
   "cell_type": "code",
   "execution_count": 21,
   "id": "7a6dcbaa-186f-4045-9fd5-c15a04190135",
   "metadata": {},
   "outputs": [],
   "source": [
    "%%write_and_run $SCRIPT_FILENAME -a\n",
    "# Extract\n",
    "dataset = \"https://gist.githubusercontent.com/JoeLeavitt/f9d1e14e87f2ca41609b0af63fbab7af/raw/9fedfd46068bdf6ee62731da4cf08c56df7c4866/DATA.csv\""
   ]
  },
  {
   "cell_type": "code",
   "execution_count": 22,
   "id": "5ec308cf-abaa-4964-a195-ac2822054b22",
   "metadata": {},
   "outputs": [],
   "source": [
    "%%write_and_run $SCRIPT_FILENAME -a\n",
    "\n",
    "df = pd.read_csv(dataset)"
   ]
  },
  {
   "cell_type": "code",
   "execution_count": 23,
   "id": "913c768b-bf6c-4a1c-bf39-34e0be8c5772",
   "metadata": {},
   "outputs": [
    {
     "data": {
      "text/html": [
       "<div>\n",
       "<style scoped>\n",
       "    .dataframe tbody tr th:only-of-type {\n",
       "        vertical-align: middle;\n",
       "    }\n",
       "\n",
       "    .dataframe tbody tr th {\n",
       "        vertical-align: top;\n",
       "    }\n",
       "\n",
       "    .dataframe thead th {\n",
       "        text-align: right;\n",
       "    }\n",
       "</style>\n",
       "<table border=\"1\" class=\"dataframe\">\n",
       "  <thead>\n",
       "    <tr style=\"text-align: right;\">\n",
       "      <th></th>\n",
       "      <th>id</th>\n",
       "      <th>first_name</th>\n",
       "      <th>last_name</th>\n",
       "      <th>email</th>\n",
       "      <th>gender</th>\n",
       "      <th>ip_address</th>\n",
       "    </tr>\n",
       "  </thead>\n",
       "  <tbody>\n",
       "    <tr>\n",
       "      <th>0</th>\n",
       "      <td>1</td>\n",
       "      <td>Margaretta</td>\n",
       "      <td>Laughtisse</td>\n",
       "      <td>mlaughtisse0@mediafire.com</td>\n",
       "      <td>Genderfluid</td>\n",
       "      <td>34.148.232.131</td>\n",
       "    </tr>\n",
       "    <tr>\n",
       "      <th>1</th>\n",
       "      <td>2</td>\n",
       "      <td>Vally</td>\n",
       "      <td>Garment</td>\n",
       "      <td>vgarment1@wisc.edu</td>\n",
       "      <td>Bigender</td>\n",
       "      <td>15.158.123.36</td>\n",
       "    </tr>\n",
       "    <tr>\n",
       "      <th>2</th>\n",
       "      <td>3</td>\n",
       "      <td>Tessa</td>\n",
       "      <td>Curee</td>\n",
       "      <td>tcuree2@php.net</td>\n",
       "      <td>Bigender</td>\n",
       "      <td>132.209.143.225</td>\n",
       "    </tr>\n",
       "    <tr>\n",
       "      <th>3</th>\n",
       "      <td>4</td>\n",
       "      <td>Arman</td>\n",
       "      <td>Heineking</td>\n",
       "      <td>aheineking3@tuttocitta.it</td>\n",
       "      <td>Male</td>\n",
       "      <td>157.110.61.233</td>\n",
       "    </tr>\n",
       "    <tr>\n",
       "      <th>4</th>\n",
       "      <td>5</td>\n",
       "      <td>Roselia</td>\n",
       "      <td>Trustie</td>\n",
       "      <td>rtrustie4@ft.com</td>\n",
       "      <td>Non-binary</td>\n",
       "      <td>49.55.218.81</td>\n",
       "    </tr>\n",
       "  </tbody>\n",
       "</table>\n",
       "</div>"
      ],
      "text/plain": [
       "   id  first_name   last_name                       email       gender  \\\n",
       "0   1  Margaretta  Laughtisse  mlaughtisse0@mediafire.com  Genderfluid   \n",
       "1   2       Vally     Garment          vgarment1@wisc.edu     Bigender   \n",
       "2   3       Tessa       Curee             tcuree2@php.net     Bigender   \n",
       "3   4       Arman   Heineking   aheineking3@tuttocitta.it         Male   \n",
       "4   5     Roselia     Trustie            rtrustie4@ft.com   Non-binary   \n",
       "\n",
       "        ip_address  \n",
       "0   34.148.232.131  \n",
       "1    15.158.123.36  \n",
       "2  132.209.143.225  \n",
       "3   157.110.61.233  \n",
       "4     49.55.218.81  "
      ]
     },
     "execution_count": 23,
     "metadata": {},
     "output_type": "execute_result"
    }
   ],
   "source": [
    "df.head()"
   ]
  },
  {
   "cell_type": "code",
   "execution_count": 24,
   "id": "55af8e03-560f-4fa3-b0af-30d56d50bcd4",
   "metadata": {},
   "outputs": [
    {
     "data": {
      "text/html": [
       "<div>\n",
       "<style scoped>\n",
       "    .dataframe tbody tr th:only-of-type {\n",
       "        vertical-align: middle;\n",
       "    }\n",
       "\n",
       "    .dataframe tbody tr th {\n",
       "        vertical-align: top;\n",
       "    }\n",
       "\n",
       "    .dataframe thead th {\n",
       "        text-align: right;\n",
       "    }\n",
       "</style>\n",
       "<table border=\"1\" class=\"dataframe\">\n",
       "  <thead>\n",
       "    <tr style=\"text-align: right;\">\n",
       "      <th></th>\n",
       "      <th>id</th>\n",
       "    </tr>\n",
       "  </thead>\n",
       "  <tbody>\n",
       "    <tr>\n",
       "      <th>count</th>\n",
       "      <td>1000.000000</td>\n",
       "    </tr>\n",
       "    <tr>\n",
       "      <th>mean</th>\n",
       "      <td>500.500000</td>\n",
       "    </tr>\n",
       "    <tr>\n",
       "      <th>std</th>\n",
       "      <td>288.819436</td>\n",
       "    </tr>\n",
       "    <tr>\n",
       "      <th>min</th>\n",
       "      <td>1.000000</td>\n",
       "    </tr>\n",
       "    <tr>\n",
       "      <th>25%</th>\n",
       "      <td>250.750000</td>\n",
       "    </tr>\n",
       "    <tr>\n",
       "      <th>50%</th>\n",
       "      <td>500.500000</td>\n",
       "    </tr>\n",
       "    <tr>\n",
       "      <th>75%</th>\n",
       "      <td>750.250000</td>\n",
       "    </tr>\n",
       "    <tr>\n",
       "      <th>max</th>\n",
       "      <td>1000.000000</td>\n",
       "    </tr>\n",
       "  </tbody>\n",
       "</table>\n",
       "</div>"
      ],
      "text/plain": [
       "                id\n",
       "count  1000.000000\n",
       "mean    500.500000\n",
       "std     288.819436\n",
       "min       1.000000\n",
       "25%     250.750000\n",
       "50%     500.500000\n",
       "75%     750.250000\n",
       "max    1000.000000"
      ]
     },
     "execution_count": 24,
     "metadata": {},
     "output_type": "execute_result"
    }
   ],
   "source": [
    "df.describe()"
   ]
  },
  {
   "cell_type": "code",
   "execution_count": 25,
   "id": "1038df5b-42fe-4c2c-9113-8c96db792d60",
   "metadata": {},
   "outputs": [
    {
     "name": "stdout",
     "output_type": "stream",
     "text": [
      "<class 'pandas.core.frame.DataFrame'>\n",
      "RangeIndex: 1000 entries, 0 to 999\n",
      "Data columns (total 6 columns):\n",
      " #   Column      Non-Null Count  Dtype \n",
      "---  ------      --------------  ----- \n",
      " 0   id          1000 non-null   int64 \n",
      " 1   first_name  1000 non-null   object\n",
      " 2   last_name   1000 non-null   object\n",
      " 3   email       1000 non-null   object\n",
      " 4   gender      1000 non-null   object\n",
      " 5   ip_address  1000 non-null   object\n",
      "dtypes: int64(1), object(5)\n",
      "memory usage: 47.0+ KB\n"
     ]
    }
   ],
   "source": [
    "df.info()"
   ]
  },
  {
   "cell_type": "code",
   "execution_count": 27,
   "id": "aecf0265-44bf-4aeb-87e0-0ffb944d2576",
   "metadata": {},
   "outputs": [],
   "source": [
    "raw_table_name = 'raw_data'\n",
    "df.to_sql(raw_table_name, engine, if_exists='replace')"
   ]
  },
  {
   "cell_type": "code",
   "execution_count": 28,
   "id": "671ff904-125c-4b83-8a39-8bc7f1b3941d",
   "metadata": {},
   "outputs": [],
   "source": [
    "def check_table_exists(table_name, engine):\n",
    "    if table_name in inspect(engine).get_table_names():\n",
    "        print(f\"{table_name!r} exists in the DB!\")\n",
    "    else:\n",
    "        print(f\"{table_name} does not exist in the DB!\")"
   ]
  },
  {
   "cell_type": "code",
   "execution_count": 29,
   "id": "a9cb5a67-57f5-4eea-bea3-9b8d27bdf57a",
   "metadata": {},
   "outputs": [
    {
     "name": "stdout",
     "output_type": "stream",
     "text": [
      "'raw_data' exists in the DB!\n"
     ]
    }
   ],
   "source": [
    "check_table_exists(raw_table_name, engine)"
   ]
  },
  {
   "cell_type": "code",
   "execution_count": 30,
   "id": "34dfefec-8198-469e-b318-fcbd7938221b",
   "metadata": {},
   "outputs": [
    {
     "data": {
      "text/html": [
       "<div>\n",
       "<style scoped>\n",
       "    .dataframe tbody tr th:only-of-type {\n",
       "        vertical-align: middle;\n",
       "    }\n",
       "\n",
       "    .dataframe tbody tr th {\n",
       "        vertical-align: top;\n",
       "    }\n",
       "\n",
       "    .dataframe thead th {\n",
       "        text-align: right;\n",
       "    }\n",
       "</style>\n",
       "<table border=\"1\" class=\"dataframe\">\n",
       "  <thead>\n",
       "    <tr style=\"text-align: right;\">\n",
       "      <th></th>\n",
       "      <th>index</th>\n",
       "      <th>id</th>\n",
       "      <th>first_name</th>\n",
       "      <th>last_name</th>\n",
       "      <th>email</th>\n",
       "      <th>gender</th>\n",
       "      <th>ip_address</th>\n",
       "    </tr>\n",
       "  </thead>\n",
       "  <tbody>\n",
       "    <tr>\n",
       "      <th>0</th>\n",
       "      <td>0</td>\n",
       "      <td>1</td>\n",
       "      <td>Margaretta</td>\n",
       "      <td>Laughtisse</td>\n",
       "      <td>mlaughtisse0@mediafire.com</td>\n",
       "      <td>Genderfluid</td>\n",
       "      <td>34.148.232.131</td>\n",
       "    </tr>\n",
       "    <tr>\n",
       "      <th>1</th>\n",
       "      <td>1</td>\n",
       "      <td>2</td>\n",
       "      <td>Vally</td>\n",
       "      <td>Garment</td>\n",
       "      <td>vgarment1@wisc.edu</td>\n",
       "      <td>Bigender</td>\n",
       "      <td>15.158.123.36</td>\n",
       "    </tr>\n",
       "    <tr>\n",
       "      <th>2</th>\n",
       "      <td>2</td>\n",
       "      <td>3</td>\n",
       "      <td>Tessa</td>\n",
       "      <td>Curee</td>\n",
       "      <td>tcuree2@php.net</td>\n",
       "      <td>Bigender</td>\n",
       "      <td>132.209.143.225</td>\n",
       "    </tr>\n",
       "    <tr>\n",
       "      <th>3</th>\n",
       "      <td>3</td>\n",
       "      <td>4</td>\n",
       "      <td>Arman</td>\n",
       "      <td>Heineking</td>\n",
       "      <td>aheineking3@tuttocitta.it</td>\n",
       "      <td>Male</td>\n",
       "      <td>157.110.61.233</td>\n",
       "    </tr>\n",
       "    <tr>\n",
       "      <th>4</th>\n",
       "      <td>4</td>\n",
       "      <td>5</td>\n",
       "      <td>Roselia</td>\n",
       "      <td>Trustie</td>\n",
       "      <td>rtrustie4@ft.com</td>\n",
       "      <td>Non-binary</td>\n",
       "      <td>49.55.218.81</td>\n",
       "    </tr>\n",
       "    <tr>\n",
       "      <th>...</th>\n",
       "      <td>...</td>\n",
       "      <td>...</td>\n",
       "      <td>...</td>\n",
       "      <td>...</td>\n",
       "      <td>...</td>\n",
       "      <td>...</td>\n",
       "      <td>...</td>\n",
       "    </tr>\n",
       "    <tr>\n",
       "      <th>995</th>\n",
       "      <td>995</td>\n",
       "      <td>996</td>\n",
       "      <td>Roxana</td>\n",
       "      <td>Prandi</td>\n",
       "      <td>rprandirn@ox.ac.uk</td>\n",
       "      <td>Agender</td>\n",
       "      <td>227.67.205.244</td>\n",
       "    </tr>\n",
       "    <tr>\n",
       "      <th>996</th>\n",
       "      <td>996</td>\n",
       "      <td>997</td>\n",
       "      <td>Matthus</td>\n",
       "      <td>Chadwin</td>\n",
       "      <td>mchadwinro@hibu.com</td>\n",
       "      <td>Female</td>\n",
       "      <td>189.120.124.155</td>\n",
       "    </tr>\n",
       "    <tr>\n",
       "      <th>997</th>\n",
       "      <td>997</td>\n",
       "      <td>998</td>\n",
       "      <td>Artur</td>\n",
       "      <td>Fairbanks</td>\n",
       "      <td>afairbanksrp@live.com</td>\n",
       "      <td>Bigender</td>\n",
       "      <td>246.169.244.242</td>\n",
       "    </tr>\n",
       "    <tr>\n",
       "      <th>998</th>\n",
       "      <td>998</td>\n",
       "      <td>999</td>\n",
       "      <td>Amalee</td>\n",
       "      <td>Bingall</td>\n",
       "      <td>abingallrq@yandex.ru</td>\n",
       "      <td>Genderqueer</td>\n",
       "      <td>16.201.179.189</td>\n",
       "    </tr>\n",
       "    <tr>\n",
       "      <th>999</th>\n",
       "      <td>999</td>\n",
       "      <td>1000</td>\n",
       "      <td>Gunther</td>\n",
       "      <td>Karlik</td>\n",
       "      <td>gkarlikrr@smh.com.au</td>\n",
       "      <td>Genderfluid</td>\n",
       "      <td>0.14.221.255</td>\n",
       "    </tr>\n",
       "  </tbody>\n",
       "</table>\n",
       "<p>1000 rows × 7 columns</p>\n",
       "</div>"
      ],
      "text/plain": [
       "     index    id  first_name   last_name                       email  \\\n",
       "0        0     1  Margaretta  Laughtisse  mlaughtisse0@mediafire.com   \n",
       "1        1     2       Vally     Garment          vgarment1@wisc.edu   \n",
       "2        2     3       Tessa       Curee             tcuree2@php.net   \n",
       "3        3     4       Arman   Heineking   aheineking3@tuttocitta.it   \n",
       "4        4     5     Roselia     Trustie            rtrustie4@ft.com   \n",
       "..     ...   ...         ...         ...                         ...   \n",
       "995    995   996      Roxana      Prandi          rprandirn@ox.ac.uk   \n",
       "996    996   997     Matthus     Chadwin         mchadwinro@hibu.com   \n",
       "997    997   998       Artur   Fairbanks       afairbanksrp@live.com   \n",
       "998    998   999      Amalee     Bingall        abingallrq@yandex.ru   \n",
       "999    999  1000     Gunther      Karlik        gkarlikrr@smh.com.au   \n",
       "\n",
       "          gender       ip_address  \n",
       "0    Genderfluid   34.148.232.131  \n",
       "1       Bigender    15.158.123.36  \n",
       "2       Bigender  132.209.143.225  \n",
       "3           Male   157.110.61.233  \n",
       "4     Non-binary     49.55.218.81  \n",
       "..           ...              ...  \n",
       "995      Agender   227.67.205.244  \n",
       "996       Female  189.120.124.155  \n",
       "997     Bigender  246.169.244.242  \n",
       "998  Genderqueer   16.201.179.189  \n",
       "999  Genderfluid     0.14.221.255  \n",
       "\n",
       "[1000 rows x 7 columns]"
      ]
     },
     "execution_count": 30,
     "metadata": {},
     "output_type": "execute_result"
    }
   ],
   "source": [
    "pd.read_sql(f\"SELECT * FROM {raw_table_name}\", engine)"
   ]
  },
  {
   "cell_type": "code",
   "execution_count": null,
   "id": "9691bcc9-38b3-4ffe-8306-909d54a047da",
   "metadata": {},
   "outputs": [],
   "source": []
  },
  {
   "cell_type": "code",
   "execution_count": null,
   "id": "e5f4078c-d1ec-4633-8159-e968021aa760",
   "metadata": {},
   "outputs": [],
   "source": []
  }
 ],
 "metadata": {
  "kernelspec": {
   "display_name": "Python 3 (ipykernel)",
   "language": "python",
   "name": "python3"
  },
  "language_info": {
   "codemirror_mode": {
    "name": "ipython",
    "version": 3
   },
   "file_extension": ".py",
   "mimetype": "text/x-python",
   "name": "python",
   "nbconvert_exporter": "python",
   "pygments_lexer": "ipython3",
   "version": "3.10.5"
  }
 },
 "nbformat": 4,
 "nbformat_minor": 5
}
